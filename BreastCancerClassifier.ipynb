{
  "nbformat": 4,
  "nbformat_minor": 0,
  "metadata": {
    "colab": {
      "name": "BreastCancerClassifier.ipynb",
      "version": "0.3.2",
      "provenance": [],
      "collapsed_sections": []
    },
    "kernelspec": {
      "name": "python3",
      "display_name": "Python 3"
    },
    "accelerator": "GPU"
  },
  "cells": [
    {
      "cell_type": "code",
      "metadata": {
        "id": "2NtVEtVY8pcV",
        "colab_type": "code",
        "colab": {
          "resources": {
            "http://localhost:8080/nbextensions/google.colab/files.js": {
              "data": "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",
              "ok": true,
              "headers": [
                [
                  "content-type",
                  "application/javascript"
                ]
              ],
              "status": 200,
              "status_text": ""
            }
          },
          "base_uri": "https://localhost:8080/",
          "height": 74
        },
        "outputId": "8d762c84-f775-4cfc-cb5e-09a0f7a8c32c"
      },
      "source": [
        "import pandas as pd\n",
        "from google.colab import files\n",
        "file = files.upload()\n",
        "data = pd.read_csv(\"breastCancer.csv\", header = None)"
      ],
      "execution_count": 1,
      "outputs": [
        {
          "output_type": "display_data",
          "data": {
            "text/html": [
              "\n",
              "     <input type=\"file\" id=\"files-b72f508a-a421-42e1-aef0-8b860c21ea31\" name=\"files[]\" multiple disabled />\n",
              "     <output id=\"result-b72f508a-a421-42e1-aef0-8b860c21ea31\">\n",
              "      Upload widget is only available when the cell has been executed in the\n",
              "      current browser session. Please rerun this cell to enable.\n",
              "      </output>\n",
              "      <script src=\"/nbextensions/google.colab/files.js\"></script> "
            ],
            "text/plain": [
              "<IPython.core.display.HTML object>"
            ]
          },
          "metadata": {
            "tags": []
          }
        },
        {
          "output_type": "stream",
          "text": [
            "Saving breastCancer.csv to breastCancer.csv\n"
          ],
          "name": "stdout"
        }
      ]
    },
    {
      "cell_type": "code",
      "metadata": {
        "id": "tvSkOuYIVOPk",
        "colab_type": "code",
        "colab": {}
      },
      "source": [
        "data"
      ],
      "execution_count": 0,
      "outputs": []
    },
    {
      "cell_type": "code",
      "metadata": {
        "id": "vXXQz3jxR9Fj",
        "colab_type": "code",
        "colab": {}
      },
      "source": [
        "df = pd.DataFrame(data)\n",
        "df[6] = df[6].replace('?',0)\n",
        "df[6] = df[6].astype(int)\n",
        "df.dtypes"
      ],
      "execution_count": 0,
      "outputs": []
    },
    {
      "cell_type": "code",
      "metadata": {
        "id": "-y7NFR_qU7nz",
        "colab_type": "code",
        "colab": {}
      },
      "source": [
        "mean = int(df[6].mean())\n",
        "mean"
      ],
      "execution_count": 0,
      "outputs": []
    },
    {
      "cell_type": "code",
      "metadata": {
        "id": "wYvCIIj_VK6g",
        "colab_type": "code",
        "colab": {}
      },
      "source": [
        "df[10] = df[10].replace(2,0).replace(4,1)\n",
        "df[6] = df[6].replace(0,mean)\n",
        "df"
      ],
      "execution_count": 0,
      "outputs": []
    },
    {
      "cell_type": "code",
      "metadata": {
        "colab_type": "code",
        "id": "Qbu7Zv2czq0y",
        "colab": {}
      },
      "source": [
        "X = df.iloc[:, 1:10]\n",
        "Y = df.iloc[:, 10]\n",
        "\n",
        "from sklearn.model_selection import train_test_split\n",
        "X_train, X_test, Y_train, Y_test = train_test_split(X, Y, test_size = 0.2, random_state = 0)\n",
        "\n",
        "X_train.to_csv(\"X_train.csv\", index = False, header = None)\n",
        "X_test.to_csv(\"X_test.csv\", index = False, header = None)\n",
        "Y_train.to_csv(\"Y_train.csv\", index = False, header = None)\n",
        "Y_test.to_csv(\"Y_test.csv\", index = False, header = None)"
      ],
      "execution_count": 0,
      "outputs": []
    },
    {
      "cell_type": "code",
      "metadata": {
        "id": "sohV0PGSKQS4",
        "colab_type": "code",
        "colab": {}
      },
      "source": [
        "from sklearn.preprocessing import StandardScaler\n",
        "scaler = StandardScaler()\n",
        "X_train = scaler.fit_transform(X_train)\n",
        "X_test = scaler.transform(X_test)"
      ],
      "execution_count": 0,
      "outputs": []
    },
    {
      "cell_type": "code",
      "metadata": {
        "id": "eE4HskIpLltT",
        "colab_type": "code",
        "colab": {
          "base_uri": "https://localhost:8080/",
          "height": 34
        },
        "outputId": "ecb035a3-5729-46ea-fe67-05abef16530c"
      },
      "source": [
        "from keras.models import Sequential\n",
        "from keras.layers import Dense"
      ],
      "execution_count": 10,
      "outputs": [
        {
          "output_type": "stream",
          "text": [
            "Using TensorFlow backend.\n"
          ],
          "name": "stderr"
        }
      ]
    },
    {
      "cell_type": "code",
      "metadata": {
        "id": "dvzmWV37Loqr",
        "colab_type": "code",
        "colab": {}
      },
      "source": [
        "classifier = Sequential()\n",
        "classifier.add(Dense(units = 5, activation = 'relu', input_dim=9))\n",
        "classifier.add(Dense(units = 3, activation = 'relu'))\n",
        "classifier.add(Dense(units = 1, activation = 'sigmoid'))"
      ],
      "execution_count": 0,
      "outputs": []
    },
    {
      "cell_type": "code",
      "metadata": {
        "id": "Lyd73YtdL4lY",
        "colab_type": "code",
        "colab": {}
      },
      "source": [
        "classifier.compile(optimizer='adam', loss='mean_squared_error', metrics=['accuracy'])"
      ],
      "execution_count": 0,
      "outputs": []
    },
    {
      "cell_type": "code",
      "metadata": {
        "id": "P0fspYawL9qV",
        "colab_type": "code",
        "colab": {
          "base_uri": "https://localhost:8080/",
          "height": 3505
        },
        "outputId": "8009b8db-8e45-4859-aaf1-16d2a7187441"
      },
      "source": [
        "classifier.fit(X_train, Y_train, batch_size = 10, epochs = 100)"
      ],
      "execution_count": 14,
      "outputs": [
        {
          "output_type": "stream",
          "text": [
            "WARNING:tensorflow:From /usr/local/lib/python3.6/dist-packages/tensorflow/python/ops/math_ops.py:3066: to_int32 (from tensorflow.python.ops.math_ops) is deprecated and will be removed in a future version.\n",
            "Instructions for updating:\n",
            "Use tf.cast instead.\n",
            "Epoch 1/100\n",
            "559/559 [==============================] - 3s 5ms/step - loss: 0.3278 - acc: 0.0894\n",
            "Epoch 2/100\n",
            "559/559 [==============================] - 0s 281us/step - loss: 0.2642 - acc: 0.3775\n",
            "Epoch 3/100\n",
            "559/559 [==============================] - 0s 260us/step - loss: 0.2431 - acc: 0.7084\n",
            "Epoch 4/100\n",
            "559/559 [==============================] - 0s 285us/step - loss: 0.2263 - acc: 0.8444\n",
            "Epoch 5/100\n",
            "559/559 [==============================] - 0s 301us/step - loss: 0.2034 - acc: 0.9123\n",
            "Epoch 6/100\n",
            "559/559 [==============================] - 0s 282us/step - loss: 0.1820 - acc: 0.9374\n",
            "Epoch 7/100\n",
            "559/559 [==============================] - 0s 283us/step - loss: 0.1639 - acc: 0.9481\n",
            "Epoch 8/100\n",
            "559/559 [==============================] - 0s 272us/step - loss: 0.1501 - acc: 0.9517\n",
            "Epoch 9/100\n",
            "559/559 [==============================] - 0s 281us/step - loss: 0.1389 - acc: 0.9553\n",
            "Epoch 10/100\n",
            "559/559 [==============================] - 0s 279us/step - loss: 0.1298 - acc: 0.9571\n",
            "Epoch 11/100\n",
            "559/559 [==============================] - 0s 282us/step - loss: 0.1217 - acc: 0.9606\n",
            "Epoch 12/100\n",
            "559/559 [==============================] - 0s 292us/step - loss: 0.1143 - acc: 0.9624\n",
            "Epoch 13/100\n",
            "559/559 [==============================] - 0s 261us/step - loss: 0.1075 - acc: 0.9624\n",
            "Epoch 14/100\n",
            "559/559 [==============================] - 0s 256us/step - loss: 0.0929 - acc: 0.9606\n",
            "Epoch 15/100\n",
            "559/559 [==============================] - 0s 255us/step - loss: 0.0381 - acc: 0.9642\n",
            "Epoch 16/100\n",
            "559/559 [==============================] - 0s 260us/step - loss: 0.0269 - acc: 0.9642\n",
            "Epoch 17/100\n",
            "559/559 [==============================] - 0s 256us/step - loss: 0.0250 - acc: 0.9678\n",
            "Epoch 18/100\n",
            "559/559 [==============================] - 0s 263us/step - loss: 0.0240 - acc: 0.9696\n",
            "Epoch 19/100\n",
            "559/559 [==============================] - 0s 260us/step - loss: 0.0233 - acc: 0.9696\n",
            "Epoch 20/100\n",
            "559/559 [==============================] - 0s 253us/step - loss: 0.0228 - acc: 0.9696\n",
            "Epoch 21/100\n",
            "559/559 [==============================] - 0s 283us/step - loss: 0.0224 - acc: 0.9696\n",
            "Epoch 22/100\n",
            "559/559 [==============================] - 0s 273us/step - loss: 0.0221 - acc: 0.9696\n",
            "Epoch 23/100\n",
            "559/559 [==============================] - 0s 260us/step - loss: 0.0217 - acc: 0.9696\n",
            "Epoch 24/100\n",
            "559/559 [==============================] - 0s 255us/step - loss: 0.0214 - acc: 0.9696\n",
            "Epoch 25/100\n",
            "559/559 [==============================] - 0s 271us/step - loss: 0.0211 - acc: 0.9696\n",
            "Epoch 26/100\n",
            "559/559 [==============================] - 0s 256us/step - loss: 0.0209 - acc: 0.9714\n",
            "Epoch 27/100\n",
            "559/559 [==============================] - 0s 251us/step - loss: 0.0207 - acc: 0.9732\n",
            "Epoch 28/100\n",
            "559/559 [==============================] - 0s 254us/step - loss: 0.0204 - acc: 0.9732\n",
            "Epoch 29/100\n",
            "559/559 [==============================] - 0s 254us/step - loss: 0.0202 - acc: 0.9732\n",
            "Epoch 30/100\n",
            "559/559 [==============================] - 0s 255us/step - loss: 0.0200 - acc: 0.9732\n",
            "Epoch 31/100\n",
            "559/559 [==============================] - 0s 256us/step - loss: 0.0198 - acc: 0.9750\n",
            "Epoch 32/100\n",
            "559/559 [==============================] - 0s 273us/step - loss: 0.0197 - acc: 0.9750\n",
            "Epoch 33/100\n",
            "559/559 [==============================] - 0s 256us/step - loss: 0.0196 - acc: 0.9750\n",
            "Epoch 34/100\n",
            "559/559 [==============================] - 0s 253us/step - loss: 0.0194 - acc: 0.9750\n",
            "Epoch 35/100\n",
            "559/559 [==============================] - 0s 251us/step - loss: 0.0193 - acc: 0.9767\n",
            "Epoch 36/100\n",
            "559/559 [==============================] - 0s 256us/step - loss: 0.0191 - acc: 0.9767\n",
            "Epoch 37/100\n",
            "559/559 [==============================] - 0s 254us/step - loss: 0.0190 - acc: 0.9767\n",
            "Epoch 38/100\n",
            "559/559 [==============================] - 0s 252us/step - loss: 0.0189 - acc: 0.9785\n",
            "Epoch 39/100\n",
            "559/559 [==============================] - 0s 255us/step - loss: 0.0188 - acc: 0.9785\n",
            "Epoch 40/100\n",
            "559/559 [==============================] - 0s 265us/step - loss: 0.0187 - acc: 0.9785\n",
            "Epoch 41/100\n",
            "559/559 [==============================] - 0s 258us/step - loss: 0.0185 - acc: 0.9785\n",
            "Epoch 42/100\n",
            "559/559 [==============================] - 0s 257us/step - loss: 0.0184 - acc: 0.9785\n",
            "Epoch 43/100\n",
            "559/559 [==============================] - 0s 260us/step - loss: 0.0183 - acc: 0.9785\n",
            "Epoch 44/100\n",
            "559/559 [==============================] - 0s 252us/step - loss: 0.0183 - acc: 0.9785\n",
            "Epoch 45/100\n",
            "559/559 [==============================] - 0s 249us/step - loss: 0.0182 - acc: 0.9785\n",
            "Epoch 46/100\n",
            "559/559 [==============================] - 0s 257us/step - loss: 0.0181 - acc: 0.9785\n",
            "Epoch 47/100\n",
            "559/559 [==============================] - 0s 272us/step - loss: 0.0180 - acc: 0.9785\n",
            "Epoch 48/100\n",
            "559/559 [==============================] - 0s 253us/step - loss: 0.0180 - acc: 0.9785\n",
            "Epoch 49/100\n",
            "559/559 [==============================] - 0s 257us/step - loss: 0.0179 - acc: 0.9785\n",
            "Epoch 50/100\n",
            "559/559 [==============================] - 0s 254us/step - loss: 0.0178 - acc: 0.9785\n",
            "Epoch 51/100\n",
            "559/559 [==============================] - 0s 258us/step - loss: 0.0178 - acc: 0.9785\n",
            "Epoch 52/100\n",
            "559/559 [==============================] - 0s 267us/step - loss: 0.0177 - acc: 0.9785\n",
            "Epoch 53/100\n",
            "559/559 [==============================] - 0s 259us/step - loss: 0.0176 - acc: 0.9785\n",
            "Epoch 54/100\n",
            "559/559 [==============================] - 0s 272us/step - loss: 0.0176 - acc: 0.9785\n",
            "Epoch 55/100\n",
            "559/559 [==============================] - 0s 256us/step - loss: 0.0175 - acc: 0.9785\n",
            "Epoch 56/100\n",
            "559/559 [==============================] - 0s 256us/step - loss: 0.0175 - acc: 0.9785\n",
            "Epoch 57/100\n",
            "559/559 [==============================] - 0s 255us/step - loss: 0.0174 - acc: 0.9785\n",
            "Epoch 58/100\n",
            "559/559 [==============================] - 0s 254us/step - loss: 0.0174 - acc: 0.9785\n",
            "Epoch 59/100\n",
            "559/559 [==============================] - 0s 254us/step - loss: 0.0173 - acc: 0.9785\n",
            "Epoch 60/100\n",
            "559/559 [==============================] - 0s 250us/step - loss: 0.0172 - acc: 0.9785\n",
            "Epoch 61/100\n",
            "559/559 [==============================] - 0s 263us/step - loss: 0.0172 - acc: 0.9785\n",
            "Epoch 62/100\n",
            "559/559 [==============================] - 0s 257us/step - loss: 0.0170 - acc: 0.9785\n",
            "Epoch 63/100\n",
            "559/559 [==============================] - 0s 260us/step - loss: 0.0170 - acc: 0.9785\n",
            "Epoch 64/100\n",
            "559/559 [==============================] - 0s 253us/step - loss: 0.0169 - acc: 0.9785\n",
            "Epoch 65/100\n",
            "559/559 [==============================] - 0s 249us/step - loss: 0.0168 - acc: 0.9785\n",
            "Epoch 66/100\n",
            "559/559 [==============================] - 0s 251us/step - loss: 0.0168 - acc: 0.9785\n",
            "Epoch 67/100\n",
            "559/559 [==============================] - 0s 255us/step - loss: 0.0167 - acc: 0.9785\n",
            "Epoch 68/100\n",
            "559/559 [==============================] - 0s 267us/step - loss: 0.0166 - acc: 0.9785\n",
            "Epoch 69/100\n",
            "559/559 [==============================] - 0s 249us/step - loss: 0.0166 - acc: 0.9785\n",
            "Epoch 70/100\n",
            "559/559 [==============================] - 0s 262us/step - loss: 0.0166 - acc: 0.9803\n",
            "Epoch 71/100\n",
            "559/559 [==============================] - 0s 250us/step - loss: 0.0165 - acc: 0.9803\n",
            "Epoch 72/100\n",
            "559/559 [==============================] - 0s 251us/step - loss: 0.0165 - acc: 0.9803\n",
            "Epoch 73/100\n",
            "559/559 [==============================] - 0s 253us/step - loss: 0.0164 - acc: 0.9803\n",
            "Epoch 74/100\n",
            "559/559 [==============================] - 0s 257us/step - loss: 0.0164 - acc: 0.9803\n",
            "Epoch 75/100\n",
            "559/559 [==============================] - 0s 268us/step - loss: 0.0163 - acc: 0.9803\n",
            "Epoch 76/100\n",
            "559/559 [==============================] - 0s 252us/step - loss: 0.0163 - acc: 0.9803\n",
            "Epoch 77/100\n",
            "559/559 [==============================] - 0s 257us/step - loss: 0.0162 - acc: 0.9803\n",
            "Epoch 78/100\n",
            "559/559 [==============================] - 0s 256us/step - loss: 0.0162 - acc: 0.9803\n",
            "Epoch 79/100\n",
            "559/559 [==============================] - 0s 255us/step - loss: 0.0161 - acc: 0.9803\n",
            "Epoch 80/100\n",
            "559/559 [==============================] - 0s 253us/step - loss: 0.0161 - acc: 0.9803\n",
            "Epoch 81/100\n",
            "559/559 [==============================] - 0s 260us/step - loss: 0.0161 - acc: 0.9803\n",
            "Epoch 82/100\n",
            "559/559 [==============================] - 0s 272us/step - loss: 0.0160 - acc: 0.9803\n",
            "Epoch 83/100\n",
            "559/559 [==============================] - 0s 255us/step - loss: 0.0161 - acc: 0.9803\n",
            "Epoch 84/100\n",
            "559/559 [==============================] - 0s 255us/step - loss: 0.0160 - acc: 0.9803\n",
            "Epoch 85/100\n",
            "559/559 [==============================] - 0s 254us/step - loss: 0.0159 - acc: 0.9803\n",
            "Epoch 86/100\n",
            "559/559 [==============================] - 0s 253us/step - loss: 0.0159 - acc: 0.9803\n",
            "Epoch 87/100\n",
            "559/559 [==============================] - 0s 248us/step - loss: 0.0158 - acc: 0.9803\n",
            "Epoch 88/100\n",
            "559/559 [==============================] - 0s 261us/step - loss: 0.0158 - acc: 0.9803\n",
            "Epoch 89/100\n",
            "559/559 [==============================] - 0s 272us/step - loss: 0.0158 - acc: 0.9803\n",
            "Epoch 90/100\n",
            "559/559 [==============================] - 0s 256us/step - loss: 0.0158 - acc: 0.9803\n",
            "Epoch 91/100\n",
            "559/559 [==============================] - 0s 277us/step - loss: 0.0157 - acc: 0.9803\n",
            "Epoch 92/100\n",
            "559/559 [==============================] - 0s 253us/step - loss: 0.0157 - acc: 0.9803\n",
            "Epoch 93/100\n",
            "559/559 [==============================] - 0s 278us/step - loss: 0.0157 - acc: 0.9803\n",
            "Epoch 94/100\n",
            "559/559 [==============================] - 0s 259us/step - loss: 0.0156 - acc: 0.9803\n",
            "Epoch 95/100\n",
            "559/559 [==============================] - 0s 254us/step - loss: 0.0156 - acc: 0.9803\n",
            "Epoch 96/100\n",
            "559/559 [==============================] - 0s 270us/step - loss: 0.0156 - acc: 0.9803\n",
            "Epoch 97/100\n",
            "559/559 [==============================] - 0s 252us/step - loss: 0.0156 - acc: 0.9803\n",
            "Epoch 98/100\n",
            "559/559 [==============================] - 0s 255us/step - loss: 0.0155 - acc: 0.9803\n",
            "Epoch 99/100\n",
            "559/559 [==============================] - 0s 258us/step - loss: 0.0155 - acc: 0.9803\n",
            "Epoch 100/100\n",
            "559/559 [==============================] - 0s 263us/step - loss: 0.0155 - acc: 0.9803\n"
          ],
          "name": "stdout"
        },
        {
          "output_type": "execute_result",
          "data": {
            "text/plain": [
              "<keras.callbacks.History at 0x7f1c6ab2e7b8>"
            ]
          },
          "metadata": {
            "tags": []
          },
          "execution_count": 14
        }
      ]
    },
    {
      "cell_type": "code",
      "metadata": {
        "id": "QwJSJiUQMSH5",
        "colab_type": "code",
        "colab": {}
      },
      "source": [
        "Y_pred = classifier.predict(X_test)\n",
        "Y_pred = [ 1 if y>=0.5 else 0 for y in Y_pred]\n",
        "Y_pred"
      ],
      "execution_count": 0,
      "outputs": []
    },
    {
      "cell_type": "code",
      "metadata": {
        "id": "tvxSrRlZMd_7",
        "colab_type": "code",
        "colab": {
          "base_uri": "https://localhost:8080/",
          "height": 51
        },
        "outputId": "dc352193-94d1-4782-da99-312e42c2c090"
      },
      "source": [
        "from sklearn.metrics import confusion_matrix\n",
        "cm = confusion_matrix(Y_test, Y_pred)\n",
        "cm"
      ],
      "execution_count": 16,
      "outputs": [
        {
          "output_type": "execute_result",
          "data": {
            "text/plain": [
              "array([[82,  3],\n",
              "       [ 1, 54]])"
            ]
          },
          "metadata": {
            "tags": []
          },
          "execution_count": 16
        }
      ]
    }
  ]
}